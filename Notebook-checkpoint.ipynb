{
 "cells": [
  {
   "cell_type": "markdown",
   "metadata": {},
   "source": [
    "# Business Understanding"
   ]
  },
  {
   "cell_type": "markdown",
   "metadata": {},
   "source": [
    "My company is looking to purchase aircraft for the purpose of transporting C-suite and company VIPs efficiently and comfortably. The aircraft may also double as a useful tool for impressing high value company clients. \n",
    "\n",
    "I will be using my data analysis skills and tools to create actionable insights and aircraft recommendations that meet the objective of this project. "
   ]
  },
  {
   "cell_type": "markdown",
   "metadata": {},
   "source": [
    "# Data Understanding"
   ]
  },
  {
   "cell_type": "markdown",
   "metadata": {},
   "source": [
    "Data for this project is from the National Transportation Safety Board, which contains aviation accident data from 1962 to 2023 about civil aviation accidents and selected incidents in the US and international waters. This data set contained 90348 rows of aircraft accidents spread across 31 columns. These columns include accident dates, aircraft make and model, injury and damage severity, phase of flight the accident occured, as well as the purpose of each aircraft. \n",
    "\n",
    "The dataset was limited in that key information used for determining overall aircraft safety was not included, such as distance traveled by the aircraft, average flight time, and frequency of inspection, maintainence, and repairs, and accident rate per flights flow by specific aircraft. "
   ]
  },
  {
   "cell_type": "markdown",
   "metadata": {},
   "source": [
    "# Data Preparation"
   ]
  },
  {
   "cell_type": "code",
   "execution_count": 1,
   "metadata": {},
   "outputs": [
    {
     "name": "stdout",
     "output_type": "stream",
     "text": [
      "             Event.Id Investigation.Type Accident.Number  Event.Date  \\\n",
      "0      20001218X45444           Accident      SEA87LA080  1948-10-24   \n",
      "1      20001218X45447           Accident      LAX94LA336  1962-07-19   \n",
      "2      20061025X01555           Accident      NYC07LA005  1974-08-30   \n",
      "3      20001218X45448           Accident      LAX96LA321  1977-06-19   \n",
      "4      20041105X01764           Accident      CHI79FA064  1979-08-02   \n",
      "...               ...                ...             ...         ...   \n",
      "90343  20221227106491           Accident      ERA23LA093  2022-12-26   \n",
      "90344  20221227106494           Accident      ERA23LA095  2022-12-26   \n",
      "90345  20221227106497           Accident      WPR23LA075  2022-12-26   \n",
      "90346  20221227106498           Accident      WPR23LA076  2022-12-26   \n",
      "90347  20221230106513           Accident      ERA23LA097  2022-12-29   \n",
      "\n",
      "              Location        Country   Latitude   Longitude Airport.Code  \\\n",
      "0      MOOSE CREEK, ID  United States        NaN         NaN          NaN   \n",
      "1       BRIDGEPORT, CA  United States        NaN         NaN          NaN   \n",
      "2        Saltville, VA  United States  36.922223  -81.878056          NaN   \n",
      "3           EUREKA, CA  United States        NaN         NaN          NaN   \n",
      "4           Canton, OH  United States        NaN         NaN          NaN   \n",
      "...                ...            ...        ...         ...          ...   \n",
      "90343    Annapolis, MD  United States        NaN         NaN          NaN   \n",
      "90344      Hampton, NH  United States        NaN         NaN          NaN   \n",
      "90345       Payson, AZ  United States    341525N    1112021W          PAN   \n",
      "90346       Morgan, UT  United States        NaN         NaN          NaN   \n",
      "90347       Athens, GA  United States        NaN         NaN          NaN   \n",
      "\n",
      "      Airport.Name  ... Purpose.of.flight         Air.carrier  \\\n",
      "0              NaN  ...          Personal                 NaN   \n",
      "1              NaN  ...          Personal                 NaN   \n",
      "2              NaN  ...          Personal                 NaN   \n",
      "3              NaN  ...          Personal                 NaN   \n",
      "4              NaN  ...          Personal                 NaN   \n",
      "...            ...  ...               ...                 ...   \n",
      "90343          NaN  ...          Personal                 NaN   \n",
      "90344          NaN  ...               NaN                 NaN   \n",
      "90345       PAYSON  ...          Personal                 NaN   \n",
      "90346          NaN  ...          Personal  MC CESSNA 210N LLC   \n",
      "90347          NaN  ...          Personal                 NaN   \n",
      "\n",
      "      Total.Fatal.Injuries Total.Serious.Injuries Total.Minor.Injuries  \\\n",
      "0                      2.0                    0.0                  0.0   \n",
      "1                      4.0                    0.0                  0.0   \n",
      "2                      3.0                    NaN                  NaN   \n",
      "3                      2.0                    0.0                  0.0   \n",
      "4                      1.0                    2.0                  NaN   \n",
      "...                    ...                    ...                  ...   \n",
      "90343                  0.0                    1.0                  0.0   \n",
      "90344                  0.0                    0.0                  0.0   \n",
      "90345                  0.0                    0.0                  0.0   \n",
      "90346                  0.0                    0.0                  0.0   \n",
      "90347                  0.0                    1.0                  0.0   \n",
      "\n",
      "      Total.Uninjured Weather.Condition  Broad.phase.of.flight  \\\n",
      "0                 0.0               UNK                 Cruise   \n",
      "1                 0.0               UNK                Unknown   \n",
      "2                 NaN               IMC                 Cruise   \n",
      "3                 0.0               IMC                 Cruise   \n",
      "4                 0.0               VMC               Approach   \n",
      "...               ...               ...                    ...   \n",
      "90343             0.0               NaN                    NaN   \n",
      "90344             0.0               NaN                    NaN   \n",
      "90345             1.0               VMC                    NaN   \n",
      "90346             0.0               NaN                    NaN   \n",
      "90347             1.0               NaN                    NaN   \n",
      "\n",
      "        Report.Status Publication.Date  \n",
      "0      Probable Cause              NaN  \n",
      "1      Probable Cause       19-09-1996  \n",
      "2      Probable Cause       26-02-2007  \n",
      "3      Probable Cause       12-09-2000  \n",
      "4      Probable Cause       16-04-1980  \n",
      "...               ...              ...  \n",
      "90343             NaN       29-12-2022  \n",
      "90344             NaN              NaN  \n",
      "90345             NaN       27-12-2022  \n",
      "90346             NaN              NaN  \n",
      "90347             NaN       30-12-2022  \n",
      "\n",
      "[90348 rows x 31 columns]\n"
     ]
    }
   ],
   "source": [
    "import pandas as pd\n",
    "import matplotlib.pyplot as plt\n",
    "#Importing the data\n",
    "df = pd.read_csv('Aviation_Data.csv', dtype={6: str, 7: str, 28: str})\n",
    "#Creating the dataframe and setting the values in columns with mixed values to strings\n",
    "\n",
    "print(df)\n",
    "#Printing"
   ]
  },
  {
   "cell_type": "markdown",
   "metadata": {},
   "source": [
    "Now that the dataset has been imported, I will remove rows that contain missing values in several important columns"
   ]
  },
  {
   "cell_type": "code",
   "execution_count": 2,
   "metadata": {},
   "outputs": [],
   "source": [
    "DF = df.dropna(subset=['Injury.Severity', 'Aircraft.damage', 'Aircraft.Category', 'Engine.Type', 'Event.Date', 'Amateur.Built'])\n",
    "#Cleaning the dataframe by removing rows with missing values in the most important columns"
   ]
  },
  {
   "cell_type": "code",
   "execution_count": 3,
   "metadata": {},
   "outputs": [
    {
     "name": "stdout",
     "output_type": "stream",
     "text": [
      "             Event.Id Investigation.Type Accident.Number  Event.Date  \\\n",
      "5      20170710X52551           Accident      NYC79AA106  1979-09-17   \n",
      "7      20020909X01562           Accident      SEA82DA022  1982-01-01   \n",
      "8      20020909X01561           Accident      NYC82DA015  1982-01-01   \n",
      "12     20020917X02148           Accident      FTW82FRJ07  1982-01-02   \n",
      "13     20020917X02134           Accident      FTW82FRA14  1982-01-02   \n",
      "...               ...                ...             ...         ...   \n",
      "90098  20221011106092           Accident      CEN23LA008  2022-10-06   \n",
      "90106  20221011106098           Accident      ERA23LA014  2022-10-08   \n",
      "90120  20221018106153           Accident      CEN23LA015  2022-10-13   \n",
      "90194  20221031106231           Accident      CEN23LA023  2022-10-29   \n",
      "90226  20221109106272           Accident      CEN23LA033  2022-11-09   \n",
      "\n",
      "               Location        Country   Latitude   Longitude Airport.Code  \\\n",
      "5            BOSTON, MA  United States  42.445277  -70.758333          NaN   \n",
      "7           PULLMAN, WA  United States        NaN         NaN          NaN   \n",
      "8      EAST HANOVER, NJ  United States        NaN         NaN          N58   \n",
      "12            HOMER, LA  United States        NaN         NaN          NaN   \n",
      "13           HEARNE, TX  United States        NaN         NaN          T72   \n",
      "...                 ...            ...        ...         ...          ...   \n",
      "90098          Iola, TX  United States    304354N    0096752W          PVT   \n",
      "90106        Dacula, GA  United States    034055N    0835224W          LZU   \n",
      "90120       Ardmore, OK  United States    034849N    0097722W          1F0   \n",
      "90194       Houston, TX  United States    293620N    0095959W          EFD   \n",
      "90226    Bridgeport, TX  United States    331026N    0974943W         KXBP   \n",
      "\n",
      "                         Airport.Name  ... Purpose.of.flight Air.carrier  \\\n",
      "5                                 NaN  ...               NaN  Air Canada   \n",
      "7                  BLACKBURN AG STRIP  ...          Personal         NaN   \n",
      "8                             HANOVER  ...          Business         NaN   \n",
      "12                                NaN  ...          Personal         NaN   \n",
      "13                   HEARNE MUNICIPAL  ...          Personal         NaN   \n",
      "...                               ...  ...               ...         ...   \n",
      "90098                         Private  ...          Personal         NaN   \n",
      "90106   GWINNETT COUNTY - BRISCOE FLD  ...          Personal         NaN   \n",
      "90120  Ardmore Downtown Executive Air  ...          Personal         NaN   \n",
      "90194                       ELLINGTON  ...              ASHO         NaN   \n",
      "90226            Bridgeport Municipal  ...          Personal         NaN   \n",
      "\n",
      "      Total.Fatal.Injuries Total.Serious.Injuries Total.Minor.Injuries  \\\n",
      "5                      NaN                    NaN                  1.0   \n",
      "7                      0.0                    0.0                  0.0   \n",
      "8                      0.0                    0.0                  0.0   \n",
      "12                     0.0                    0.0                  1.0   \n",
      "13                     1.0                    0.0                  0.0   \n",
      "...                    ...                    ...                  ...   \n",
      "90098                  0.0                    0.0                  0.0   \n",
      "90106                  0.0                    0.0                  0.0   \n",
      "90120                  0.0                    0.0                  0.0   \n",
      "90194                  0.0                    1.0                  0.0   \n",
      "90226                  0.0                    0.0                  0.0   \n",
      "\n",
      "      Total.Uninjured Weather.Condition  Broad.phase.of.flight  \\\n",
      "5                44.0               VMC                  Climb   \n",
      "7                 2.0               VMC                Takeoff   \n",
      "8                 2.0               IMC                Landing   \n",
      "12                0.0               IMC                 Cruise   \n",
      "13                0.0               IMC                Takeoff   \n",
      "...               ...               ...                    ...   \n",
      "90098             1.0               VMC                    NaN   \n",
      "90106             2.0               VMC                    NaN   \n",
      "90120             1.0               VMC                    NaN   \n",
      "90194             0.0               VMC                    NaN   \n",
      "90226             2.0               VMC                    NaN   \n",
      "\n",
      "                                           Report.Status Publication.Date  \n",
      "5                                         Probable Cause       19-09-2017  \n",
      "7                                         Probable Cause       01-01-1982  \n",
      "8                                         Probable Cause       01-01-1982  \n",
      "12                                        Probable Cause       02-01-1983  \n",
      "13                                        Probable Cause       02-01-1983  \n",
      "...                                                  ...              ...  \n",
      "90098  The pilots failure to maintain control of the...       20-12-2022  \n",
      "90106  An in-flight collision with a bird while on ap...       20-12-2022  \n",
      "90120  The pilot did not ensure adequate clearance fr...       20-12-2022  \n",
      "90194  The pilots failure to secure the magneto swit...       20-12-2022  \n",
      "90226  The pilots loss of control due to a wind gust...       20-12-2022  \n",
      "\n",
      "[25999 rows x 31 columns]\n"
     ]
    }
   ],
   "source": [
    "print(DF)\n",
    "#Dataset has been reduced from 90348 rows to 25999 rows"
   ]
  },
  {
   "cell_type": "markdown",
   "metadata": {},
   "source": [
    "Now I'm examining the breakdown of unqiue purposes for flying "
   ]
  },
  {
   "cell_type": "code",
   "execution_count": 4,
   "metadata": {},
   "outputs": [
    {
     "data": {
      "text/plain": [
       "{'Personal': 15826,\n",
       " 'Instructional': 3484,\n",
       " 'Aerial Application': 1262,\n",
       " 'Unknown': 897,\n",
       " 'Business': 822,\n",
       " 'Positioning': 486,\n",
       " 'Other Work Use': 284,\n",
       " 'Aerial Observation': 275,\n",
       " 'Flight Test': 248,\n",
       " 'Ferry': 184,\n",
       " 'Executive/corporate': 154,\n",
       " 'Skydiving': 153,\n",
       " 'External Load': 85,\n",
       " 'Banner Tow': 83,\n",
       " 'Public Aircraft - Federal': 74,\n",
       " 'Air Race show': 68,\n",
       " 'Public Aircraft - Local': 61,\n",
       " 'Public Aircraft': 54,\n",
       " 'Public Aircraft - State': 51,\n",
       " 'Glider Tow': 33,\n",
       " 'Firefighting': 19,\n",
       " 'Air Race/show': 8,\n",
       " 'Air Drop': 6,\n",
       " 'PUBS': 2,\n",
       " 'ASHO': 2,\n",
       " 'PUBL': 1}"
      ]
     },
     "execution_count": 4,
     "metadata": {},
     "output_type": "execute_result"
    }
   ],
   "source": [
    "Flight_Purpose_Unique_Values_Count = DF['Purpose.of.flight'].value_counts().to_dict()\n",
    "Flight_Purpose_Unique_Values_Count"
   ]
  },
  {
   "cell_type": "markdown",
   "metadata": {},
   "source": [
    "Single engine aircraft are significantly less safe than other aircraft, as demonstrated by the table below. "
   ]
  },
  {
   "cell_type": "code",
   "execution_count": 5,
   "metadata": {},
   "outputs": [
    {
     "data": {
      "image/png": "[encoded data removed]",
      "text/plain": [
       "<Figure size 576x432 with 1 Axes>"
      ]
     },
     "metadata": {
      "needs_background": "light"
     },
     "output_type": "display_data"
    }
   ],
   "source": [
    "engine_counts = DF[\"Number.of.Engines\"].value_counts()\n",
    "\n",
    "plt.figure(figsize=(8, 6))\n",
    "plt.bar(engine_counts.index, engine_counts.values)\n",
    "\n",
    "plt.xlabel('Number of Engines')\n",
    "plt.ylabel('Accidents')\n",
    "plt.title('Count of Accidents Per Engine Count')\n",
    "plt.show()"
   ]
  },
  {
   "cell_type": "markdown",
   "metadata": {},
   "source": [
    "The company is only interested in purchasing professionally manufactured airplanes, with more than one engine, so I am filtering the dataset with these parameters. This reduces the dataset to 3058 rows. "
   ]
  },
  {
   "cell_type": "code",
   "execution_count": 6,
   "metadata": {},
   "outputs": [
    {
     "data": {
      "text/plain": [
       "<bound method NDFrame.head of              Event.Id Investigation.Type Accident.Number  Event.Date  \\\n",
       "5      20170710X52551           Accident      NYC79AA106  1979-09-17   \n",
       "8      20020909X01561           Accident      NYC82DA015  1982-01-01   \n",
       "25     20020917X01905           Accident      DCA82AA008  1982-01-03   \n",
       "26     20020917X01720           Accident      ATL82FA033  1982-01-03   \n",
       "33     20020917X02254           Accident      LAX82FA038  1982-01-04   \n",
       "...               ...                ...             ...         ...   \n",
       "89508  20220714105471           Accident      ERA22LA311  2022-07-05   \n",
       "89555  20220726105587           Accident      WPR22LA272  2022-07-13   \n",
       "89561  20220717105494           Accident      ERA22LA316  2022-07-14   \n",
       "89576  20220720105531           Accident      ERA22LA325  2022-07-15   \n",
       "90120  20221018106153           Accident      CEN23LA015  2022-10-13   \n",
       "\n",
       "                 Location        Country   Latitude   Longitude Airport.Code  \\\n",
       "5              BOSTON, MA  United States  42.445277  -70.758333          NaN   \n",
       "8        EAST HANOVER, NJ  United States        NaN         NaN          N58   \n",
       "25            ASHLAND, VA  United States        NaN         NaN          NaN   \n",
       "26          PINEHURST, NC  United States        NaN         NaN          SOP   \n",
       "33     NEAR LAS VEGAS, NV  United States        NaN         NaN          NaN   \n",
       "...                   ...            ...        ...         ...          ...   \n",
       "89508      Livingston, TN  United States    362449N    0851838W          8A3   \n",
       "89555       Scappoose, WA  United States    454616N    1225143W          SPB   \n",
       "89561     Monongahela, PA  United States    401235N    0794953W          FWQ   \n",
       "89576       Brunswick, GA  United States    311533N    0812759W          BQK   \n",
       "90120         Ardmore, OK  United States    034849N    0097722W          1F0   \n",
       "\n",
       "                         Airport.Name  ... Purpose.of.flight  \\\n",
       "5                                 NaN  ...               NaN   \n",
       "8                             HANOVER  ...          Business   \n",
       "25                     HANOVER COUNTY  ...          Business   \n",
       "26                       MOORE COUNTY  ...          Personal   \n",
       "33                                NaN  ...           Unknown   \n",
       "...                               ...  ...               ...   \n",
       "89508                 LIVINGSTON MUNI  ...          Personal   \n",
       "89555                       SCAPPOOSE  ...          Business   \n",
       "89561                       ROSTRAVER  ...       Positioning   \n",
       "89576          BRUNSWICK GOLDEN ISLES  ...          Business   \n",
       "90120  Ardmore Downtown Executive Air  ...          Personal   \n",
       "\n",
       "                    Air.carrier Total.Fatal.Injuries Total.Serious.Injuries  \\\n",
       "5                    Air Canada                  NaN                    NaN   \n",
       "8                           NaN                  0.0                    0.0   \n",
       "25                          NaN                  8.0                    0.0   \n",
       "26                          NaN                  1.0                    0.0   \n",
       "33             Lang Air Service                  2.0                    0.0   \n",
       "...                         ...                  ...                    ...   \n",
       "89508                       NaN                  0.0                    0.0   \n",
       "89555                       NaN                  0.0                    0.0   \n",
       "89561                       NaN                  0.0                    0.0   \n",
       "89576  Aircraft Mgt. Group, Inc                  0.0                    0.0   \n",
       "90120                       NaN                  0.0                    0.0   \n",
       "\n",
       "      Total.Minor.Injuries Total.Uninjured Weather.Condition  \\\n",
       "5                      1.0            44.0               VMC   \n",
       "8                      0.0             2.0               IMC   \n",
       "25                     0.0             0.0               IMC   \n",
       "26                     0.0             0.0               IMC   \n",
       "33                     0.0             0.0               VMC   \n",
       "...                    ...             ...               ...   \n",
       "89508                  0.0             2.0               VMC   \n",
       "89555                  0.0             1.0               VMC   \n",
       "89561                  0.0             1.0               VMC   \n",
       "89576                  0.0             2.0               VMC   \n",
       "90120                  0.0             1.0               VMC   \n",
       "\n",
       "       Broad.phase.of.flight  \\\n",
       "5                      Climb   \n",
       "8                    Landing   \n",
       "25                  Approach   \n",
       "26                  Approach   \n",
       "33                    Cruise   \n",
       "...                      ...   \n",
       "89508                    NaN   \n",
       "89555                    NaN   \n",
       "89561                    NaN   \n",
       "89576                    NaN   \n",
       "90120                    NaN   \n",
       "\n",
       "                                           Report.Status Publication.Date  \n",
       "5                                         Probable Cause       19-09-2017  \n",
       "8                                         Probable Cause       01-01-1982  \n",
       "25                                        Probable Cause       03-01-1983  \n",
       "26                                        Probable Cause       03-01-1983  \n",
       "33                                        Probable Cause       04-01-1983  \n",
       "...                                                  ...              ...  \n",
       "89508  The pilots improper flare, which resulted in ...       03-11-2022  \n",
       "89555  The pilots failure to extend the landing gear...              NaN  \n",
       "89561  The malfunction of the braking system fluid li...       03-11-2022  \n",
       "89576                An in-flight collision with a bird.       03-11-2022  \n",
       "90120  The pilot did not ensure adequate clearance fr...       20-12-2022  \n",
       "\n",
       "[3058 rows x 31 columns]>"
      ]
     },
     "execution_count": 6,
     "metadata": {},
     "output_type": "execute_result"
    }
   ],
   "source": [
    "DFv = DF[DF['Amateur.Built'] != 'Yes']\n",
    "DFv1 = DFv[DFv['Aircraft.Category'] == 'Airplane']\n",
    "DFv1 = DFv1[DFv1['Number.of.Engines'] != 1]\n",
    "DFv1.head\n",
    "#Filting out any aircraft type other than 'Airplane' and amateur built aircraft\n",
    "#Data set has been reduced to 3058 rows"
   ]
  },
  {
   "cell_type": "markdown",
   "metadata": {},
   "source": [
    "With the reduced dataset, I am re-examining the breakdown of flight purposes. "
   ]
  },
  {
   "cell_type": "code",
   "execution_count": 7,
   "metadata": {},
   "outputs": [
    {
     "data": {
      "text/plain": [
       "{'Personal': 1094,\n",
       " 'Unknown': 298,\n",
       " 'Business': 252,\n",
       " 'Instructional': 225,\n",
       " 'Positioning': 144,\n",
       " 'Executive/corporate': 114,\n",
       " 'Ferry': 49,\n",
       " 'Aerial Application': 43,\n",
       " 'Flight Test': 35,\n",
       " 'Skydiving': 29,\n",
       " 'Aerial Observation': 26,\n",
       " 'Other Work Use': 20,\n",
       " 'Public Aircraft - Federal': 15,\n",
       " 'Public Aircraft': 12,\n",
       " 'Air Race show': 8,\n",
       " 'Firefighting': 5,\n",
       " 'Public Aircraft - Local': 4,\n",
       " 'Public Aircraft - State': 3,\n",
       " 'Glider Tow': 2,\n",
       " 'Banner Tow': 1}"
      ]
     },
     "execution_count": 7,
     "metadata": {},
     "output_type": "execute_result"
    }
   ],
   "source": [
    "Flight_Purpose_Unique_Values_Count = DFv1['Purpose.of.flight'].value_counts().to_dict()\n",
    "Flight_Purpose_Unique_Values_Count"
   ]
  },
  {
   "cell_type": "markdown",
   "metadata": {},
   "source": [
    "As the company is interested in aircraft for business and corporate use, I will filter the data further to only include these types of aircraft, leaving 252 rows. "
   ]
  },
  {
   "cell_type": "code",
   "execution_count": 8,
   "metadata": {},
   "outputs": [
    {
     "data": {
      "text/plain": [
       "<bound method NDFrame.head of              Event.Id Investigation.Type Accident.Number  Event.Date  \\\n",
       "8      20020909X01561           Accident      NYC82DA015  1982-01-01   \n",
       "25     20020917X01905           Accident      DCA82AA008  1982-01-03   \n",
       "127    20020917X01806           Accident      CHI82DA056  1982-01-19   \n",
       "134    20020917X01751           Accident      ATL82FKQ10  1982-01-20   \n",
       "229    20020917X01923           Accident      DEN82DA029  1982-02-03   \n",
       "...               ...                ...             ...         ...   \n",
       "87281  20210419102941           Accident      ANC21LA030  2021-04-16   \n",
       "88723  20220222104672           Accident      CEN22LA126  2022-02-18   \n",
       "89318  20220608105217           Accident      WPR22LA201  2022-06-07   \n",
       "89555  20220726105587           Accident      WPR22LA272  2022-07-13   \n",
       "89576  20220720105531           Accident      ERA22LA325  2022-07-15   \n",
       "\n",
       "                 Location        Country Latitude Longitude Airport.Code  \\\n",
       "8        EAST HANOVER, NJ  United States      NaN       NaN          N58   \n",
       "25            ASHLAND, VA  United States      NaN       NaN          NaN   \n",
       "127      NEAR LANSING, MI  United States      NaN       NaN          NaN   \n",
       "134            MCCOMB, MS  United States      NaN       NaN          NaN   \n",
       "229            HAYDEN, CO  United States      NaN       NaN          HDN   \n",
       "...                   ...            ...      ...       ...          ...   \n",
       "87281  Chignik Lagoon, AK  United States  561839N  0158325W          KCL   \n",
       "88723         Detroit, MI  United States  042256N  0008310W          DET   \n",
       "89318       Hawthorne, CA  United States  335520N  0118203W         KHHR   \n",
       "89555       Scappoose, WA  United States  454616N  1225143W          SPB   \n",
       "89576       Brunswick, GA  United States  311533N  0812759W          BQK   \n",
       "\n",
       "                        Airport.Name  ... Purpose.of.flight  \\\n",
       "8                            HANOVER  ...          Business   \n",
       "25                    HANOVER COUNTY  ...          Business   \n",
       "127                              NaN  ...          Business   \n",
       "134               MCCOMB-PIKE COUNTY  ...          Business   \n",
       "229                     YAMPA VALLEY  ...          Business   \n",
       "...                              ...  ...               ...   \n",
       "87281                 CHIGNIK LAGOON  ...          Business   \n",
       "88723           COLEMAN A YOUNG MUNI  ...          Business   \n",
       "89318  Jack Northrop Field/Hawthorne  ...          Business   \n",
       "89555                      SCAPPOOSE  ...          Business   \n",
       "89576         BRUNSWICK GOLDEN ISLES  ...          Business   \n",
       "\n",
       "                       Air.carrier Total.Fatal.Injuries  \\\n",
       "8                              NaN                  0.0   \n",
       "25                             NaN                  8.0   \n",
       "127                            NaN                  0.0   \n",
       "134                            NaN                  1.0   \n",
       "229                            NaN                  0.0   \n",
       "...                            ...                  ...   \n",
       "87281           LAKE CLARK AIR INC                  0.0   \n",
       "88723        ECLIPSE TRANSPORT LLC                  0.0   \n",
       "89318  PACIFIC DENTAL SERVICES LLC                  0.0   \n",
       "89555                          NaN                  0.0   \n",
       "89576     Aircraft Mgt. Group, Inc                  0.0   \n",
       "\n",
       "      Total.Serious.Injuries Total.Minor.Injuries Total.Uninjured  \\\n",
       "8                        0.0                  0.0             2.0   \n",
       "25                       0.0                  0.0             0.0   \n",
       "127                      0.0                  0.0             2.0   \n",
       "134                      0.0                  0.0             0.0   \n",
       "229                      0.0                  6.0             0.0   \n",
       "...                      ...                  ...             ...   \n",
       "87281                    0.0                  0.0             9.0   \n",
       "88723                    0.0                  0.0             1.0   \n",
       "89318                    0.0                  0.0            11.0   \n",
       "89555                    0.0                  0.0             1.0   \n",
       "89576                    0.0                  0.0             2.0   \n",
       "\n",
       "      Weather.Condition  Broad.phase.of.flight  \\\n",
       "8                   IMC                Landing   \n",
       "25                  IMC               Approach   \n",
       "127                 UNK                 Cruise   \n",
       "134                 IMC               Approach   \n",
       "229                 IMC                Landing   \n",
       "...                 ...                    ...   \n",
       "87281               VMC                    NaN   \n",
       "88723               VMC                    NaN   \n",
       "89318               VMC                    NaN   \n",
       "89555               VMC                    NaN   \n",
       "89576               VMC                    NaN   \n",
       "\n",
       "                                           Report.Status Publication.Date  \n",
       "8                                         Probable Cause       01-01-1982  \n",
       "25                                        Probable Cause       03-01-1983  \n",
       "127                                       Probable Cause       19-01-1983  \n",
       "134                                       Probable Cause       20-01-1983  \n",
       "229                                       Probable Cause       03-02-1983  \n",
       "...                                                  ...              ...  \n",
       "87281  The pilots failure to visually inspect the ru...       19-10-2021  \n",
       "88723  The pilots decision to land on the contaminat...              NaN  \n",
       "89318  The multi-engine pilot's failure to maintain c...       02-12-2022  \n",
       "89555  The pilots failure to extend the landing gear...              NaN  \n",
       "89576                An in-flight collision with a bird.       03-11-2022  \n",
       "\n",
       "[252 rows x 31 columns]>"
      ]
     },
     "execution_count": 8,
     "metadata": {},
     "output_type": "execute_result"
    }
   ],
   "source": [
    "DFv2_Biz = DFv1[DFv1['Purpose.of.flight'].isin([\"Business\", \"Executive/corproate\"])]\n",
    "DFv2_Biz.head"
   ]
  },
  {
   "cell_type": "markdown",
   "metadata": {},
   "source": [
    "I am also creating another dataset that focuses on business and executive helicopters only. "
   ]
  },
  {
   "cell_type": "code",
   "execution_count": 9,
   "metadata": {},
   "outputs": [
    {
     "data": {
      "text/plain": [
       "<bound method NDFrame.head of              Event.Id Investigation.Type Accident.Number  Event.Date  \\\n",
       "46     20020917X02157           Accident      LAX82DA039  1982-01-06   \n",
       "237    20020917X02008           Accident      FTW82DA055  1982-02-04   \n",
       "418    20020917X02098           Accident      FTW82FA071  1982-02-26   \n",
       "452    20020917X01930           Accident      DEN82DA037  1982-03-01   \n",
       "456    20020917X02535           Accident      NYC82DFJ11  1982-03-02   \n",
       "...               ...                ...             ...         ...   \n",
       "85659  20200413X74513           Accident      ERA20CA181  2020-04-09   \n",
       "86051  20200713X11352           Accident      CEN20LA282  2020-07-08   \n",
       "88213  20210927103974           Accident      CEN21LA456  2021-09-25   \n",
       "88703  20220216104650           Accident      CEN22LA122  2022-02-12   \n",
       "89184  20220519105103           Accident      WPR22LA182  2022-05-19   \n",
       "\n",
       "                   Location         Country Latitude Longitude Airport.Code  \\\n",
       "46        MAMMOTH LAKES, CA   United States      NaN       NaN          MMH   \n",
       "237          GULF OF MEXICO  GULF OF MEXICO      NaN       NaN         SS87   \n",
       "418          SAN MARCOS, TX   United States      NaN       NaN          NaN   \n",
       "452                ALMA, CO   United States      NaN       NaN          NaN   \n",
       "456       LITTLE VALLEY, NY   United States      NaN       NaN          NaN   \n",
       "...                     ...             ...      ...       ...          ...   \n",
       "85659        Fort Myers, FL   United States  263512N  0815148W          FMY   \n",
       "86051            Venice, LA   United States  292848N  0892030W          NaN   \n",
       "88213         Patterson, LA   United States  294233N  0091209W          PTN   \n",
       "88703          Eldorado, IL   United States  037493N  0882631W          NaN   \n",
       "89184  Christmas Valley, OR   United States  431410N  1203953W          62S   \n",
       "\n",
       "                   Airport.Name  ...    Purpose.of.flight  \\\n",
       "46                MAMMOTH LAKES  ...             Business   \n",
       "237               SHIP SHOAL 87  ...  Executive/corporate   \n",
       "418                         NaN  ...             Business   \n",
       "452                         NaN  ...             Business   \n",
       "456                         NaN  ...  Executive/corporate   \n",
       "...                         ...  ...                  ...   \n",
       "85659                PAGE FIELD  ...             Business   \n",
       "86051                       NaN  ...             Business   \n",
       "88213     HARRY P WILLIAMS MEML  ...             Business   \n",
       "88703                       NaN  ...             Business   \n",
       "89184  Christmas Valley Airport  ...             Business   \n",
       "\n",
       "                           Air.carrier Total.Fatal.Injuries  \\\n",
       "46                                 NaN                  0.0   \n",
       "237                                NaN                  0.0   \n",
       "418                                NaN                  1.0   \n",
       "452                                NaN                  0.0   \n",
       "456                                NaN                  0.0   \n",
       "...                                ...                  ...   \n",
       "85659          Ross Transportation Inc                  0.0   \n",
       "86051                              NaN                  0.0   \n",
       "88213  Rotorcraft Leasing Company, LLC                  0.0   \n",
       "88703                Air Evac Lifeteam                  0.0   \n",
       "89184                        Med-Trans                  0.0   \n",
       "\n",
       "      Total.Serious.Injuries Total.Minor.Injuries Total.Uninjured  \\\n",
       "46                       0.0                  0.0             6.0   \n",
       "237                      0.0                  0.0             1.0   \n",
       "418                      0.0                  0.0             0.0   \n",
       "452                      0.0                  0.0             2.0   \n",
       "456                      0.0                  0.0             4.0   \n",
       "...                      ...                  ...             ...   \n",
       "85659                    0.0                  0.0             1.0   \n",
       "86051                    0.0                  0.0             1.0   \n",
       "88213                    0.0                  0.0             3.0   \n",
       "88703                    0.0                  1.0             3.0   \n",
       "89184                    0.0                  4.0             0.0   \n",
       "\n",
       "      Weather.Condition  Broad.phase.of.flight  \\\n",
       "46                  VMC                   Taxi   \n",
       "237                 VMC                Takeoff   \n",
       "418                 VMC                 Cruise   \n",
       "452                 VMC                 Cruise   \n",
       "456                 IMC                 Cruise   \n",
       "...                 ...                    ...   \n",
       "85659               VMC                    NaN   \n",
       "86051               NaN                    NaN   \n",
       "88213               VMC                    NaN   \n",
       "88703               VMC                    NaN   \n",
       "89184               VMC                    NaN   \n",
       "\n",
       "                                           Report.Status Publication.Date  \n",
       "46                                        Probable Cause       06-01-1983  \n",
       "237                                       Probable Cause       04-02-1983  \n",
       "418                                       Probable Cause       26-02-1983  \n",
       "452                                       Probable Cause       01-03-1983  \n",
       "456                                       Probable Cause       02-03-1983  \n",
       "...                                                  ...              ...  \n",
       "85659  A hard landing that occurred at an unknown tim...       02-02-2021  \n",
       "86051                                                NaN       26-09-2020  \n",
       "88213  The pilots failure to maintain adequate clear...              NaN  \n",
       "88703  Overheating of two lithium batteries in the pa...              NaN  \n",
       "89184  The pilots inability to maintain control in h...       16-08-2022  \n",
       "\n",
       "[127 rows x 31 columns]>"
      ]
     },
     "execution_count": 9,
     "metadata": {},
     "output_type": "execute_result"
    }
   ],
   "source": [
    "DFv3 = DFv[DFv['Aircraft.Category'] == 'Helicopter']\n",
    "DFv3_Heli = DFv3[DFv3['Purpose.of.flight'].isin([\"Business\", \"Executive/corporate\"])]\n",
    "DFv3_Heli.head"
   ]
  },
  {
   "cell_type": "markdown",
   "metadata": {},
   "source": [
    "# Exploratory Data Analysis"
   ]
  },
  {
   "cell_type": "markdown",
   "metadata": {},
   "source": [
    "***Business and Executive Jets***"
   ]
  },
  {
   "cell_type": "code",
   "execution_count": 10,
   "metadata": {},
   "outputs": [
    {
     "name": "stderr",
     "output_type": "stream",
     "text": [
      "<ipython-input-10-a872d8fcf5ff>:1: SettingWithCopyWarning: \n",
      "A value is trying to be set on a copy of a slice from a DataFrame.\n",
      "Try using .loc[row_indexer,col_indexer] = value instead\n",
      "\n",
      "See the caveats in the documentation: https://pandas.pydata.org/pandas-docs/stable/user_guide/indexing.html#returning-a-view-versus-a-copy\n",
      "  DFv2_Biz['Make'] = DFv2_Biz['Make'].astype(str).str.upper()\n"
     ]
    }
   ],
   "source": [
    "DFv2_Biz['Make'] = DFv2_Biz['Make'].astype(str).str.upper()\n",
    "#Ensuring all \"Make\" values are spelled the same way for filtering "
   ]
  },
  {
   "cell_type": "markdown",
   "metadata": {},
   "source": [
    "Now I am going to determine which aircraft had the most accidents, and separate them by degrees of severity."
   ]
  },
  {
   "cell_type": "code",
   "execution_count": 11,
   "metadata": {},
   "outputs": [
    {
     "name": "stdout",
     "output_type": "stream",
     "text": [
      "{'CESSNA': 25, 'PIPER': 18, 'BEECH': 15, 'MITSUBISHI': 2, 'BOEING': 1, 'DASSAULT': 1, 'DOUGLAS': 1, 'GATES LEARJET': 1, 'GRUMMAN': 1, 'GRUMMAN AIRCRAFT ENG CORP': 1, 'HAWKER BEECHCRAFT CORPORATION': 1, 'RAYTHEON AIRCRAFT COMPANY': 1, 'ROCKWELL': 1, 'SMITH': 1, 'TED SMITH': 1, 'TEXTRON AVIATION INC': 1}\n"
     ]
    }
   ],
   "source": [
    "Destroyed_Make_Count = DFv2_Biz.groupby('Make')['Aircraft.damage'].value_counts().unstack(fill_value=0).to_dict()['Destroyed']\n",
    "Filtered_Destroyed_Make_Count = {make: count for make, count in Destroyed_Make_Count.items() if count > 0}\n",
    "Sorted_Filtered_Destroyed_Make_Count = dict(sorted(Filtered_Destroyed_Make_Count.items(), key=lambda item: item[1], reverse=True))\n",
    "print(Sorted_Filtered_Destroyed_Make_Count)\n",
    "#Counting the total Destroyed airplane per Make for business and executive aircraft"
   ]
  },
  {
   "cell_type": "code",
   "execution_count": 12,
   "metadata": {},
   "outputs": [
    {
     "name": "stdout",
     "output_type": "stream",
     "text": [
      "{'CESSNA': 60, 'BEECH': 36, 'PIPER': 26, 'AERO COMMANDER': 4, 'MITSUBISHI': 4, 'LEARJET': 2, 'PIAGGIO': 2, 'RAYTHEON AIRCRAFT COMPANY': 2, 'AIR TRACTOR INC': 1, 'BEECHCRAFT': 1, 'CANADAIR': 1, 'CURTISS WRIGHT': 1, 'DASSAULT-BREGUET': 1, 'DOUGLAS': 1, 'EMBRAER': 1, 'EMBRAER EXECUTIVE AIRCRAFT INC': 1, 'FAIRCHILD': 1, 'GREAT LAKES': 1, 'GRUMMAN': 1, 'GULFSTREAM AEROSPACE': 1, 'GULFSTREAM AM CORP COMM DIV': 1, 'HAWKER BEECHCRAFT': 1, 'ISRAEL AIRCRAFT INDUSTRIES': 1, 'LANCAIR': 1, 'LEARJET INC': 1, 'MORANE-SAULNIER': 1, 'NORTHROP': 1, 'PIAGGIO AERO INDUSTRIES S.P.A.': 1, 'PIPER AIRCRAFT CORPORATION': 1, 'ROCKWELL': 1, 'SMITH': 1, 'SMITH, TED AEROSTAR': 1, 'TEXTRON AVIATION INC': 1}\n"
     ]
    }
   ],
   "source": [
    "Substantial_Make_Count = DFv2_Biz.groupby('Make')['Aircraft.damage'].value_counts().unstack(fill_value=0).to_dict()['Substantial']\n",
    "Filtered_Substantial_Make_Count = {make: count for make, count in Substantial_Make_Count.items() if count > 0}\n",
    "Sorted_Filtered_Substantial_Make_Count = dict(sorted(Filtered_Substantial_Make_Count.items(), key=lambda item: item[1], reverse=True))\n",
    "print(Sorted_Filtered_Substantial_Make_Count)\n",
    "#Counting the substantial airplane damage incidents per Make for business and executive aircraft"
   ]
  },
  {
   "cell_type": "code",
   "execution_count": 13,
   "metadata": {},
   "outputs": [
    {
     "name": "stdout",
     "output_type": "stream",
     "text": [
      "{'CESSNA': 5, 'BEECH': 3, 'RAYTHEON AIRCRAFT COMPANY': 2, 'BOMBARDIER': 1, 'BOMBARDIER INC': 1, 'DEHAVILLAND': 1, 'GULFSTREAM': 1, 'LEARJET': 1, 'MITSUBISHI': 1, 'PIAGGIO': 1, 'PIPER': 1, 'RAYTHEON': 1}\n"
     ]
    }
   ],
   "source": [
    "Minor_Make_Count = DFv2_Biz.groupby('Make')['Aircraft.damage'].value_counts().unstack(fill_value=0).to_dict()['Minor']\n",
    "Filtered_Minor_Make_Count = {make: count for make, count in Minor_Make_Count.items() if count > 0}\n",
    "Sorted_Filtered_Minor_Make_Count = dict(sorted(Filtered_Minor_Make_Count.items(), key=lambda item: item[1], reverse=True))\n",
    "print(Sorted_Filtered_Minor_Make_Count)\n",
    "\n",
    "#Counting the minor damage airplane incidents per Make for business and executive aircraft"
   ]
  },
  {
   "cell_type": "markdown",
   "metadata": {},
   "source": [
    "After taking a broad look at the breakdown of accidents per manufacturer, broken down between degrees of accident severity, I'm now going to take a closer look at specific manufacturers. "
   ]
  },
  {
   "cell_type": "code",
   "execution_count": 14,
   "metadata": {},
   "outputs": [
    {
     "name": "stdout",
     "output_type": "stream",
     "text": [
      "{'551': 1, '550': 1, '421': 1, '560': 1, '421B': 1}\n"
     ]
    }
   ],
   "source": [
    "CESSNA_Models_Minor = DFv2_Biz[(DFv2_Biz['Aircraft.damage'] == 'Minor') & (DFv2_Biz['Make'] == 'CESSNA')]['Model'].value_counts()\n",
    "CESSNA_Models_Minor_Dict = CESSNA_Models_Minor.to_dict()\n",
    "print(CESSNA_Models_Minor_Dict)\n",
    "#Now we are determining aircraft damage by Model type"
   ]
  },
  {
   "cell_type": "code",
   "execution_count": 15,
   "metadata": {},
   "outputs": [
    {
     "name": "stdout",
     "output_type": "stream",
     "text": [
      "{'PA-34-22OT': 1}\n"
     ]
    }
   ],
   "source": [
    "PIPER_Models_Minor = DFv2_Biz[(DFv2_Biz['Aircraft.damage'] == 'Minor') & (DFv2_Biz['Make'] == 'PIPER')]['Model'].value_counts()\n",
    "PIPER_Models_Minor_Dict = PIPER_Models_Minor.to_dict()\n",
    "print(PIPER_Models_Minor_Dict)"
   ]
  },
  {
   "cell_type": "code",
   "execution_count": 16,
   "metadata": {},
   "outputs": [
    {
     "name": "stdout",
     "output_type": "stream",
     "text": [
      "{'390': 1}\n"
     ]
    }
   ],
   "source": [
    "RAYTHEON_Models_Minor = DFv2_Biz[(DFv2_Biz['Aircraft.damage'] == 'Minor') & (DFv2_Biz['Make'] == 'RAYTHEON')]['Model'].value_counts()\n",
    "RAYTHEON_Models_Minor_Dict = RAYTHEON_Models_Minor.to_dict()\n",
    "print(RAYTHEON_Models_Minor_Dict)"
   ]
  },
  {
   "cell_type": "code",
   "execution_count": 17,
   "metadata": {},
   "outputs": [
    {
     "name": "stdout",
     "output_type": "stream",
     "text": [
      "{'BD100 1A10': 1}\n"
     ]
    }
   ],
   "source": [
    "BOMBARDIER_Models_Minor = DFv2_Biz[(DFv2_Biz['Aircraft.damage'] == 'Minor') & (DFv2_Biz['Make'] == 'BOMBARDIER')]['Model'].value_counts()\n",
    "BOMBARDIER_Models_Minor_Dict = BOMBARDIER_Models_Minor.to_dict()\n",
    "print(BOMBARDIER_Models_Minor_Dict)"
   ]
  },
  {
   "cell_type": "code",
   "execution_count": 18,
   "metadata": {},
   "outputs": [
    {
     "name": "stdout",
     "output_type": "stream",
     "text": [
      "{'B100': 1, '95-C55': 1, '200': 1}\n"
     ]
    }
   ],
   "source": [
    "BEECH_Models_Minor = DFv2_Biz[(DFv2_Biz['Aircraft.damage'] == 'Minor') & (DFv2_Biz['Make'] == 'BEECH')]['Model'].value_counts()\n",
    "BEECH_Models_Minor_Dict = BEECH_Models_Minor.to_dict()\n",
    "print(BEECH_Models_Minor_Dict)"
   ]
  },
  {
   "cell_type": "code",
   "execution_count": 19,
   "metadata": {},
   "outputs": [
    {
     "name": "stdout",
     "output_type": "stream",
     "text": [
      "{'421B': 6, '340A': 4, '525': 4, '421C': 3, '402B': 3, '310R': 3, '337': 2, '525A': 2, '421': 2, '340': 2, '414': 2, '441': 2, '414A': 2, '421A': 1, '525B': 1, '550': 1, '208B': 1, '310': 1, '336': 1, '425': 1, 'Citation 500': 1, '310K': 1, 'T337G': 1, '337D': 1, 'T337C': 1, 'U206F': 1, '401A': 1, '402': 1, '750': 1, '401B': 1, '401': 1, '501': 1, 'C-425': 1, 'T310': 1, '310-J': 1, '310Q': 1}\n"
     ]
    }
   ],
   "source": [
    "CESSNA_Models_Substantial = DFv2_Biz[(DFv2_Biz['Aircraft.damage'] == 'Substantial') & (DFv2_Biz['Make'] == 'CESSNA')]['Model'].value_counts()\n",
    "CESSNA_Models_Substantial_Dict = CESSNA_Models_Substantial.to_dict()\n",
    "print(CESSNA_Models_Substantial_Dict)"
   ]
  },
  {
   "cell_type": "code",
   "execution_count": 20,
   "metadata": {
    "scrolled": true
   },
   "outputs": [
    {
     "name": "stdout",
     "output_type": "stream",
     "text": [
      "{'421': 4, '421B': 3, '340A': 2, '414': 2, '500': 2, '340': 2, '310': 2, '421C': 2, '310C': 1, '525': 1, '441': 1, '414A': 1, 'T310R': 1, '551': 1}\n"
     ]
    }
   ],
   "source": [
    "CESSNA_Models_Destroyed = DFv2_Biz[(DFv2_Biz['Aircraft.damage'] == 'Destroyed') & (DFv2_Biz['Make'] == 'CESSNA')]['Model'].value_counts()\n",
    "CESSNA_Models_Destroyed_Dict = CESSNA_Models_Destroyed.to_dict()\n",
    "print(CESSNA_Models_Destroyed_Dict)"
   ]
  },
  {
   "cell_type": "markdown",
   "metadata": {},
   "source": [
    "Now I will examine the performance stats of specific aircraft models"
   ]
  },
  {
   "cell_type": "code",
   "execution_count": 21,
   "metadata": {},
   "outputs": [],
   "source": [
    "#Creating a function to easily check aircraft damage stats\n",
    "def model_performance_stats(df, model_name):\n",
    "    df_model = df[df[\"Model\"] == model_name]\n",
    "    result = {\n",
    "        \"Destroyed Count\": df_model[df_model[\"Aircraft.damage\"] == \"Destroyed\"].shape[0],\n",
    "        \"Substantial Count\": df_model[df_model[\"Aircraft.damage\"] == \"Substantial\"].shape[0],\n",
    "        \"Minor Count\": df_model[df_model[\"Aircraft.damage\"] == \"Minor\"].shape[0],\n",
    "        \"Total Fatalities\": df_model[\"Total.Fatal.Injuries\"].sum(),\n",
    "        \"Total Serious Injuries\": df_model[\"Total.Serious.Injuries\"].sum(),\n",
    "        \"Total Minor Injuries\": df_model[\"Total.Minor.Injuries\"].sum(),\n",
    "        \"Total Uninjured\": df_model[\"Total.Uninjured\"].sum()\n",
    "    }\n",
    "    return result "
   ]
  },
  {
   "cell_type": "code",
   "execution_count": 22,
   "metadata": {},
   "outputs": [
    {
     "data": {
      "text/plain": [
       "{'Destroyed Count': 0,\n",
       " 'Substantial Count': 0,\n",
       " 'Minor Count': 1,\n",
       " 'Total Fatalities': 0.0,\n",
       " 'Total Serious Injuries': 0.0,\n",
       " 'Total Minor Injuries': 0.0,\n",
       " 'Total Uninjured': 11.0}"
      ]
     },
     "execution_count": 22,
     "metadata": {},
     "output_type": "execute_result"
    }
   ],
   "source": [
    "BOMBARDIER_Performance = model_performance_stats(DFv2_Biz, 'BD100 1A10')\n",
    "BOMBARDIER_Performance"
   ]
  },
  {
   "cell_type": "code",
   "execution_count": 23,
   "metadata": {},
   "outputs": [
    {
     "data": {
      "text/plain": [
       "{'Destroyed Count': 0,\n",
       " 'Substantial Count': 0,\n",
       " 'Minor Count': 1,\n",
       " 'Total Fatalities': 0.0,\n",
       " 'Total Serious Injuries': 1.0,\n",
       " 'Total Minor Injuries': 1.0,\n",
       " 'Total Uninjured': 2.0}"
      ]
     },
     "execution_count": 23,
     "metadata": {},
     "output_type": "execute_result"
    }
   ],
   "source": [
    "CESSNA_Performance = model_performance_stats(DFv2_Biz, '560')\n",
    "CESSNA_Performance"
   ]
  },
  {
   "cell_type": "markdown",
   "metadata": {},
   "source": [
    "Comparison between Cessna and Bombardier vs other jet options"
   ]
  },
  {
   "cell_type": "code",
   "execution_count": 37,
   "metadata": {},
   "outputs": [
    {
     "data": {
      "image/png": "[encoded data removed]",
      "text/plain": [
       "<Figure size 720x432 with 1 Axes>"
      ]
     },
     "metadata": {
      "needs_background": "light"
     },
     "output_type": "display_data"
    }
   ],
   "source": [
    "Models_of_interest = ['560', 'BD100 1A10', 'B100', '95-C55', '200', '390', 'PA-34-22OT',  ]\n",
    "Filtered_Models_DF = DFv2_Biz[DFv2_Biz['Model'].isin(Models_of_interest)]\n",
    "Accident_counts = Filtered_Models_DF['Model'].value_counts()\n",
    "\n",
    "plt.figure(figsize=(10,6))\n",
    "Accident_counts.plot(kind='bar', color='skyblue')\n",
    "plt.title('Accidents Count')\n",
    "plt.xlabel('Aircraft Model')\n",
    "plt.ylabel('Accident Count')\n",
    "plt.xticks(rotation=45)\n",
    "plt.tight_layout()\n",
    "\n",
    "plt.show()"
   ]
  },
  {
   "cell_type": "code",
   "execution_count": 38,
   "metadata": {},
   "outputs": [
    {
     "data": {
      "image/png": "[encoded data removed]",
      "text/plain": [
       "<Figure size 720x432 with 1 Axes>"
      ]
     },
     "metadata": {
      "needs_background": "light"
     },
     "output_type": "display_data"
    }
   ],
   "source": [
    "Models_of_interest = ['560', 'BD100 1A10', 'B100', '95-C55', '200', '390', 'PA-34-22OT',  ]\n",
    "Filtered_Models_DF = DFv2_Biz[DFv2_Biz['Model'].isin(Models_of_interest)]\n",
    "Injury_Counts = Filtered_Models_DF.groupby('Model')[['Total.Fatal.Injuries', 'Total.Serious.Injuries', 'Total.Minor.Injuries', 'Total.Uninjured']].sum()\n",
    "\n",
    "ax = Injury_Counts.plot(kind='bar', figsize=(10,6), width=0.8)\n",
    "\n",
    "plt.title('Injury Levels Comparison by Aircraft Model')\n",
    "plt.xlabel('Aircraft Model')\n",
    "plt.ylabel('Total Count')\n",
    "plt.xticks(rotation=45)\n",
    "plt.tight_layout()\n",
    "\n",
    "plt.show()"
   ]
  },
  {
   "cell_type": "markdown",
   "metadata": {},
   "source": [
    "Based on the performance stats I recommend two airplanes:\n",
    "1. The Cessna 560 (Citation V) as a small business jet for transporting seven to eight passengers\n",
    "\n",
    "2. The Bombardier BD100 1A10 (Challenger 300) as a medium sized business jet for transporting up to sixteen passengers"
   ]
  },
  {
   "cell_type": "markdown",
   "metadata": {},
   "source": [
    "***Helicopters***"
   ]
  },
  {
   "cell_type": "markdown",
   "metadata": {},
   "source": [
    "I will be using the secondary dataset created earlier to examine suitable options for executive helicopters as an alternative to the recommended business jets. "
   ]
  },
  {
   "cell_type": "code",
   "execution_count": 28,
   "metadata": {},
   "outputs": [
    {
     "name": "stderr",
     "output_type": "stream",
     "text": [
      "<ipython-input-28-98d7b8f024af>:1: SettingWithCopyWarning: \n",
      "A value is trying to be set on a copy of a slice from a DataFrame.\n",
      "Try using .loc[row_indexer,col_indexer] = value instead\n",
      "\n",
      "See the caveats in the documentation: https://pandas.pydata.org/pandas-docs/stable/user_guide/indexing.html#returning-a-view-versus-a-copy\n",
      "  DFv3_Heli['Make'] = DFv3_Heli['Make'].astype(str).str.upper()\n"
     ]
    }
   ],
   "source": [
    "DFv3_Heli['Make'] = DFv3_Heli['Make'].astype(str).str.upper()\n",
    "#Ensuring all \"Make\" values are spelled the same way for filtering "
   ]
  },
  {
   "cell_type": "code",
   "execution_count": 29,
   "metadata": {},
   "outputs": [
    {
     "name": "stdout",
     "output_type": "stream",
     "text": [
      "{'BELL': 8, 'ROBINSON': 6, 'AGUSTA': 2, 'ROBINSON HELICOPTER COMPANY': 2, 'BRANTLY': 1, 'CONTINENTAL': 1, 'ENSTROM': 1, 'HUGHES': 1, 'KAMAN': 1, 'ROGERSON HILLER CORP.': 1, 'S.N.I.A.S.': 1}\n"
     ]
    }
   ],
   "source": [
    "Destroyed_Make_Count = DFv3_Heli.groupby('Make')['Aircraft.damage'].value_counts().unstack(fill_value=0).to_dict()['Destroyed']\n",
    "Filtered_Destroyed_Make_Count = {make: count for make, count in Destroyed_Make_Count.items() if count > 0}\n",
    "Sorted_Filtered_Destroyed_Make_Count = dict(sorted(Filtered_Destroyed_Make_Count.items(), key=lambda item: item[1], reverse=True))\n",
    "print(Sorted_Filtered_Destroyed_Make_Count)\n",
    "#Counting the total Destroyed airplane per Make for Aerial Application aircraft"
   ]
  },
  {
   "cell_type": "code",
   "execution_count": 30,
   "metadata": {},
   "outputs": [
    {
     "name": "stdout",
     "output_type": "stream",
     "text": [
      "{'BELL': 29, 'ROBINSON': 15, 'ROBINSON HELICOPTER COMPANY': 12, 'ROBINSON HELICOPTER': 9, 'HUGHES': 8, 'AEROSPATIALE': 5, 'ENSTROM': 5, 'SIKORSKY': 4, 'EUROCOPTER': 3, 'BELL HELICOPTER TEXTRON CANADA': 2, 'MCDONNELL DOUGLAS': 2, 'AIRBUS HELICOPTERS': 1, 'BELL HELICOPTER': 1, 'BELL HELICOPTER TEXTRON': 1, 'HILLER': 1, 'MCDONNELL DOUGLAS HELICOPTER': 1, 'S.N.I.A.S.': 1}\n"
     ]
    }
   ],
   "source": [
    "Substantial_Make_Count = DFv3_Heli.groupby('Make')['Aircraft.damage'].value_counts().unstack(fill_value=0).to_dict()['Substantial']\n",
    "Filtered_Substantial_Make_Count = {make: count for make, count in Substantial_Make_Count.items() if count > 0}\n",
    "Sorted_Filtered_Substantial_Make_Count = dict(sorted(Filtered_Substantial_Make_Count.items(), key=lambda item: item[1], reverse=True))\n",
    "print(Sorted_Filtered_Substantial_Make_Count)\n",
    "#Counting the substantial airplane damage incidents per Make for Aerial Application Aircraft"
   ]
  },
  {
   "cell_type": "code",
   "execution_count": 31,
   "metadata": {},
   "outputs": [
    {
     "name": "stdout",
     "output_type": "stream",
     "text": [
      "{'AGUSTA': 1, 'BELL': 1}\n"
     ]
    }
   ],
   "source": [
    "Minor_Make_Count = DFv3_Heli.groupby('Make')['Aircraft.damage'].value_counts().unstack(fill_value=0).to_dict()['Minor']\n",
    "Filtered_Minor_Make_Count = {make: count for make, count in Minor_Make_Count.items() if count > 0}\n",
    "Sorted_Filtered_Minor_Make_Count = dict(sorted(Filtered_Minor_Make_Count.items(), key=lambda item: item[1], reverse=True))\n",
    "print(Sorted_Filtered_Minor_Make_Count)\n"
   ]
  },
  {
   "cell_type": "code",
   "execution_count": 32,
   "metadata": {},
   "outputs": [
    {
     "name": "stdout",
     "output_type": "stream",
     "text": [
      "{'AW-139': 1}\n"
     ]
    }
   ],
   "source": [
    "AGUSTA_Minor_Models = DFv3_Heli[(DFv3_Heli['Aircraft.damage'] == 'Minor') & (DFv3_Heli['Make'] == 'AGUSTA')]['Model'].value_counts()\n",
    "AGUSTA_Minor_Models_Dict = AGUSTA_Minor_Models.to_dict()\n",
    "print(AGUSTA_Minor_Models_Dict)"
   ]
  },
  {
   "cell_type": "code",
   "execution_count": 33,
   "metadata": {},
   "outputs": [
    {
     "name": "stdout",
     "output_type": "stream",
     "text": [
      "{'S76': 1, 'S76A': 1, 'S-76C': 1, 'S-76B': 1}\n"
     ]
    }
   ],
   "source": [
    "SIKORSKY_Models = DFv3_Heli[(DFv3_Heli['Aircraft.damage'] == 'Substantial') & (DFv3_Heli['Make'] == 'SIKORSKY')]['Model'].value_counts()\n",
    "SIKORSKY_Models_Dict = SIKORSKY_Models.to_dict()\n",
    "print(SIKORSKY_Models_Dict)"
   ]
  },
  {
   "cell_type": "code",
   "execution_count": 34,
   "metadata": {},
   "outputs": [
    {
     "data": {
      "text/plain": [
       "{'Destroyed Count': 0,\n",
       " 'Substantial Count': 0,\n",
       " 'Minor Count': 1,\n",
       " 'Total Fatalities': 0.0,\n",
       " 'Total Serious Injuries': 0.0,\n",
       " 'Total Minor Injuries': 0.0,\n",
       " 'Total Uninjured': 0.0}"
      ]
     },
     "execution_count": 34,
     "metadata": {},
     "output_type": "execute_result"
    }
   ],
   "source": [
    "AGUSTA_AW139_Performance = model_performance_stats(DFv3_Heli, \"AW-139\")\n",
    "AGUSTA_AW139_Performance"
   ]
  },
  {
   "cell_type": "code",
   "execution_count": 35,
   "metadata": {},
   "outputs": [
    {
     "data": {
      "text/plain": [
       "{'Destroyed Count': 0,\n",
       " 'Substantial Count': 1,\n",
       " 'Minor Count': 0,\n",
       " 'Total Fatalities': 0.0,\n",
       " 'Total Serious Injuries': 0.0,\n",
       " 'Total Minor Injuries': 0.0,\n",
       " 'Total Uninjured': 7.0}"
      ]
     },
     "execution_count": 35,
     "metadata": {},
     "output_type": "execute_result"
    }
   ],
   "source": [
    "SIKORSKY_S76B_Performance = model_performance_stats(DFv3_Heli, \"S-76B\")\n",
    "SIKORSKY_S76B_Performance"
   ]
  },
  {
   "cell_type": "markdown",
   "metadata": {},
   "source": [
    "I recommend the Sikorsky S-76A helicopter as an alternative option for transporting company C-suite and VIPs."
   ]
  },
  {
   "cell_type": "markdown",
   "metadata": {},
   "source": [
    "# Conclusions"
   ]
  },
  {
   "cell_type": "markdown",
   "metadata": {},
   "source": [
    "After examining the aviation accident data set, as well as considering the limitations of this dataset, as described below, I would recommend the company consider small or medium sized business jets for purchase or charter. I also recommend the company examine executive business helicopters as an alternative to jets. "
   ]
  },
  {
   "cell_type": "markdown",
   "metadata": {},
   "source": [
    "## Limitations"
   ]
  },
  {
   "cell_type": "markdown",
   "metadata": {},
   "source": [
    "The data set used included aviation accidents only, requiring further research into aircraft costs. \n",
    "The primary limitation is that a complete safety evaluation cannot be completed with the data, as the data set includes only aviation accidents and does not include other relevant aircraft information, such as: average fuel cost, average travel distance, maintenance costs, inspection and repair frequency, etc. "
   ]
  },
  {
   "cell_type": "markdown",
   "metadata": {},
   "source": [
    "## Recommendations"
   ]
  },
  {
   "cell_type": "markdown",
   "metadata": {},
   "source": [
    "I recommend the company consider the Cessna 560 and the Bombardier BD100 1A10 aircraft for transporting C-Suite and VIPs in a jet. Additionally, I'd also recommend the Sikorsky S-76B helicopter as an alternative to the jets. "
   ]
  }
 ],
 "metadata": {
  "kernelspec": {
   "display_name": "Python (learn-env)",
   "language": "python",
   "name": "learn-env"
  },
  "language_info": {
   "codemirror_mode": {
    "name": "ipython",
    "version": 3
   },
   "file_extension": ".py",
   "mimetype": "text/x-python",
   "name": "python",
   "nbconvert_exporter": "python",
   "pygments_lexer": "ipython3",
   "version": "3.8.5"
  }
 },
 "nbformat": 4,
 "nbformat_minor": 4
}
